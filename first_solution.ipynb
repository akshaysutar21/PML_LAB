{
 "cells": [
  {
   "cell_type": "code",
   "execution_count": 1,
   "id": "05310d9f",
   "metadata": {},
   "outputs": [],
   "source": [
    "#importing dataset and libraries\n",
    "\n",
    "import pandas as pd\n",
    "import numpy as np\n",
    "import matplotlib.pyplot as plt"
   ]
  },
  {
   "cell_type": "code",
   "execution_count": 2,
   "id": "4ab0c7a8",
   "metadata": {},
   "outputs": [],
   "source": [
    "df=pd.read_csv('data.csv')"
   ]
  },
  {
   "cell_type": "markdown",
   "id": "cf08b6dc",
   "metadata": {},
   "source": [
    "## preprocessing"
   ]
  },
  {
   "cell_type": "code",
   "execution_count": 3,
   "id": "564e885c",
   "metadata": {},
   "outputs": [
    {
     "data": {
      "text/html": [
       "<div>\n",
       "<style scoped>\n",
       "    .dataframe tbody tr th:only-of-type {\n",
       "        vertical-align: middle;\n",
       "    }\n",
       "\n",
       "    .dataframe tbody tr th {\n",
       "        vertical-align: top;\n",
       "    }\n",
       "\n",
       "    .dataframe thead th {\n",
       "        text-align: right;\n",
       "    }\n",
       "</style>\n",
       "<table border=\"1\" class=\"dataframe\">\n",
       "  <thead>\n",
       "    <tr style=\"text-align: right;\">\n",
       "      <th></th>\n",
       "      <th>F</th>\n",
       "      <th>N</th>\n",
       "      <th>Prprice per square foot</th>\n",
       "    </tr>\n",
       "  </thead>\n",
       "  <tbody>\n",
       "    <tr>\n",
       "      <th>0</th>\n",
       "      <td>0.44</td>\n",
       "      <td>0.68</td>\n",
       "      <td>511.14</td>\n",
       "    </tr>\n",
       "    <tr>\n",
       "      <th>1</th>\n",
       "      <td>0.99</td>\n",
       "      <td>0.23</td>\n",
       "      <td>717.10</td>\n",
       "    </tr>\n",
       "    <tr>\n",
       "      <th>2</th>\n",
       "      <td>0.84</td>\n",
       "      <td>0.29</td>\n",
       "      <td>607.91</td>\n",
       "    </tr>\n",
       "    <tr>\n",
       "      <th>3</th>\n",
       "      <td>0.28</td>\n",
       "      <td>0.45</td>\n",
       "      <td>270.40</td>\n",
       "    </tr>\n",
       "    <tr>\n",
       "      <th>4</th>\n",
       "      <td>0.07</td>\n",
       "      <td>0.83</td>\n",
       "      <td>289.88</td>\n",
       "    </tr>\n",
       "  </tbody>\n",
       "</table>\n",
       "</div>"
      ],
      "text/plain": [
       "      F     N  Prprice per square foot\n",
       "0  0.44  0.68                   511.14\n",
       "1  0.99  0.23                   717.10\n",
       "2  0.84  0.29                   607.91\n",
       "3  0.28  0.45                   270.40\n",
       "4  0.07  0.83                   289.88"
      ]
     },
     "execution_count": 3,
     "metadata": {},
     "output_type": "execute_result"
    }
   ],
   "source": [
    "df.head()"
   ]
  },
  {
   "cell_type": "code",
   "execution_count": 6,
   "id": "7d80a317",
   "metadata": {},
   "outputs": [
    {
     "data": {
      "text/plain": [
       "(100, 3)"
      ]
     },
     "execution_count": 6,
     "metadata": {},
     "output_type": "execute_result"
    }
   ],
   "source": [
    "df.shape"
   ]
  },
  {
   "cell_type": "code",
   "execution_count": 5,
   "id": "cbdb90d4",
   "metadata": {},
   "outputs": [
    {
     "data": {
      "text/plain": [
       "F                          0\n",
       "N                          0\n",
       "Prprice per square foot    0\n",
       "dtype: int64"
      ]
     },
     "execution_count": 5,
     "metadata": {},
     "output_type": "execute_result"
    }
   ],
   "source": [
    "df.isnull().sum()"
   ]
  },
  {
   "cell_type": "code",
   "execution_count": 7,
   "id": "fce969de",
   "metadata": {},
   "outputs": [
    {
     "data": {
      "text/html": [
       "<div>\n",
       "<style scoped>\n",
       "    .dataframe tbody tr th:only-of-type {\n",
       "        vertical-align: middle;\n",
       "    }\n",
       "\n",
       "    .dataframe tbody tr th {\n",
       "        vertical-align: top;\n",
       "    }\n",
       "\n",
       "    .dataframe thead th {\n",
       "        text-align: right;\n",
       "    }\n",
       "</style>\n",
       "<table border=\"1\" class=\"dataframe\">\n",
       "  <thead>\n",
       "    <tr style=\"text-align: right;\">\n",
       "      <th></th>\n",
       "      <th>F</th>\n",
       "      <th>N</th>\n",
       "      <th>Prprice per square foot</th>\n",
       "    </tr>\n",
       "  </thead>\n",
       "  <tbody>\n",
       "    <tr>\n",
       "      <th>count</th>\n",
       "      <td>100.000000</td>\n",
       "      <td>100.000000</td>\n",
       "      <td>100.000000</td>\n",
       "    </tr>\n",
       "    <tr>\n",
       "      <th>mean</th>\n",
       "      <td>0.550300</td>\n",
       "      <td>0.501700</td>\n",
       "      <td>554.214600</td>\n",
       "    </tr>\n",
       "    <tr>\n",
       "      <th>std</th>\n",
       "      <td>0.293841</td>\n",
       "      <td>0.307124</td>\n",
       "      <td>347.312796</td>\n",
       "    </tr>\n",
       "    <tr>\n",
       "      <th>min</th>\n",
       "      <td>0.010000</td>\n",
       "      <td>0.000000</td>\n",
       "      <td>42.080000</td>\n",
       "    </tr>\n",
       "    <tr>\n",
       "      <th>25%</th>\n",
       "      <td>0.300000</td>\n",
       "      <td>0.230000</td>\n",
       "      <td>278.172500</td>\n",
       "    </tr>\n",
       "    <tr>\n",
       "      <th>50%</th>\n",
       "      <td>0.570000</td>\n",
       "      <td>0.485000</td>\n",
       "      <td>514.285000</td>\n",
       "    </tr>\n",
       "    <tr>\n",
       "      <th>75%</th>\n",
       "      <td>0.822500</td>\n",
       "      <td>0.760000</td>\n",
       "      <td>751.752500</td>\n",
       "    </tr>\n",
       "    <tr>\n",
       "      <th>max</th>\n",
       "      <td>1.000000</td>\n",
       "      <td>0.990000</td>\n",
       "      <td>1563.820000</td>\n",
       "    </tr>\n",
       "  </tbody>\n",
       "</table>\n",
       "</div>"
      ],
      "text/plain": [
       "                F           N  Prprice per square foot\n",
       "count  100.000000  100.000000               100.000000\n",
       "mean     0.550300    0.501700               554.214600\n",
       "std      0.293841    0.307124               347.312796\n",
       "min      0.010000    0.000000                42.080000\n",
       "25%      0.300000    0.230000               278.172500\n",
       "50%      0.570000    0.485000               514.285000\n",
       "75%      0.822500    0.760000               751.752500\n",
       "max      1.000000    0.990000              1563.820000"
      ]
     },
     "execution_count": 7,
     "metadata": {},
     "output_type": "execute_result"
    }
   ],
   "source": [
    "df.describe()"
   ]
  },
  {
   "cell_type": "code",
   "execution_count": null,
   "id": "bd2f8a8f",
   "metadata": {},
   "outputs": [],
   "source": [
    "#splitting our data into train and test\n",
    "from sklearn.model_selection import train_test_split\n",
    "X_train,X_test,y_train,y_test=train_test_split(X,y,test_size=0.3,random_state=0)"
   ]
  },
  {
   "cell_type": "code",
   "execution_count": null,
   "id": "74d8791f",
   "metadata": {},
   "outputs": [],
   "source": []
  },
  {
   "cell_type": "code",
   "execution_count": null,
   "id": "c38041cf",
   "metadata": {},
   "outputs": [],
   "source": []
  },
  {
   "cell_type": "code",
   "execution_count": null,
   "id": "23682959",
   "metadata": {},
   "outputs": [],
   "source": []
  },
  {
   "cell_type": "code",
   "execution_count": null,
   "id": "f8ed0d73",
   "metadata": {},
   "outputs": [],
   "source": []
  },
  {
   "cell_type": "code",
   "execution_count": 8,
   "id": "0d21376a",
   "metadata": {},
   "outputs": [
    {
     "data": {
      "text/html": [
       "<div>\n",
       "<style scoped>\n",
       "    .dataframe tbody tr th:only-of-type {\n",
       "        vertical-align: middle;\n",
       "    }\n",
       "\n",
       "    .dataframe tbody tr th {\n",
       "        vertical-align: top;\n",
       "    }\n",
       "\n",
       "    .dataframe thead th {\n",
       "        text-align: right;\n",
       "    }\n",
       "</style>\n",
       "<table border=\"1\" class=\"dataframe\">\n",
       "  <thead>\n",
       "    <tr style=\"text-align: right;\">\n",
       "      <th></th>\n",
       "      <th>F</th>\n",
       "      <th>N</th>\n",
       "      <th>Prprice per square foot</th>\n",
       "    </tr>\n",
       "  </thead>\n",
       "  <tbody>\n",
       "    <tr>\n",
       "      <th>0</th>\n",
       "      <td>0.44</td>\n",
       "      <td>0.68</td>\n",
       "      <td>511.14</td>\n",
       "    </tr>\n",
       "    <tr>\n",
       "      <th>1</th>\n",
       "      <td>0.99</td>\n",
       "      <td>0.23</td>\n",
       "      <td>717.10</td>\n",
       "    </tr>\n",
       "    <tr>\n",
       "      <th>2</th>\n",
       "      <td>0.84</td>\n",
       "      <td>0.29</td>\n",
       "      <td>607.91</td>\n",
       "    </tr>\n",
       "    <tr>\n",
       "      <th>3</th>\n",
       "      <td>0.28</td>\n",
       "      <td>0.45</td>\n",
       "      <td>270.40</td>\n",
       "    </tr>\n",
       "    <tr>\n",
       "      <th>4</th>\n",
       "      <td>0.07</td>\n",
       "      <td>0.83</td>\n",
       "      <td>289.88</td>\n",
       "    </tr>\n",
       "  </tbody>\n",
       "</table>\n",
       "</div>"
      ],
      "text/plain": [
       "      F     N  Prprice per square foot\n",
       "0  0.44  0.68                   511.14\n",
       "1  0.99  0.23                   717.10\n",
       "2  0.84  0.29                   607.91\n",
       "3  0.28  0.45                   270.40\n",
       "4  0.07  0.83                   289.88"
      ]
     },
     "execution_count": 8,
     "metadata": {},
     "output_type": "execute_result"
    }
   ],
   "source": [
    "df.head()"
   ]
  },
  {
   "cell_type": "code",
   "execution_count": 53,
   "id": "784b78b9",
   "metadata": {},
   "outputs": [
    {
     "data": {
      "text/plain": [
       "<matplotlib.collections.PathCollection at 0x163c12813d0>"
      ]
     },
     "execution_count": 53,
     "metadata": {},
     "output_type": "execute_result"
    },
    {
     "data": {
      "image/png": "[encoded data removed]",
      "text/plain": [
       "<Figure size 432x288 with 1 Axes>"
      ]
     },
     "metadata": {
      "needs_background": "light"
     },
     "output_type": "display_data"
    }
   ],
   "source": [
    "plt.scatter(df['F'],df['N'])"
   ]
  },
  {
   "cell_type": "code",
   "execution_count": 54,
   "id": "b6e9f1f8",
   "metadata": {},
   "outputs": [],
   "source": [
    "#deciding X and y"
   ]
  },
  {
   "cell_type": "code",
   "execution_count": 55,
   "id": "91c8142d",
   "metadata": {},
   "outputs": [],
   "source": [
    "X=df.iloc[:,1:-1].values\n",
    "y=df.iloc[:,-1].values\n",
    "X=X.reshape(-1,1)"
   ]
  },
  {
   "cell_type": "code",
   "execution_count": 56,
   "id": "9d460579",
   "metadata": {},
   "outputs": [
    {
     "data": {
      "text/plain": [
       "array([[0.68],\n",
       "       [0.23],\n",
       "       [0.29],\n",
       "       [0.45],\n",
       "       [0.83],\n",
       "       [0.8 ],\n",
       "       [0.92],\n",
       "       [0.43],\n",
       "       [0.89],\n",
       "       [0.95],\n",
       "       [0.06],\n",
       "       [0.91],\n",
       "       [0.69],\n",
       "       [0.94],\n",
       "       [0.06],\n",
       "       [0.17],\n",
       "       [0.66],\n",
       "       [0.43],\n",
       "       [0.64],\n",
       "       [0.44],\n",
       "       [0.93],\n",
       "       [0.43],\n",
       "       [0.85],\n",
       "       [0.07],\n",
       "       [0.52],\n",
       "       [0.15],\n",
       "       [0.13],\n",
       "       [0.6 ],\n",
       "       [0.4 ],\n",
       "       [0.65],\n",
       "       [0.17],\n",
       "       [0.97],\n",
       "       [0.04],\n",
       "       [0.53],\n",
       "       [0.85],\n",
       "       [0.69],\n",
       "       [0.22],\n",
       "       [0.15],\n",
       "       [0.02],\n",
       "       [0.91],\n",
       "       [0.76],\n",
       "       [0.19],\n",
       "       [0.62],\n",
       "       [0.17],\n",
       "       [0.69],\n",
       "       [0.76],\n",
       "       [0.23],\n",
       "       [0.96],\n",
       "       [0.03],\n",
       "       [0.23],\n",
       "       [0.11],\n",
       "       [0.87],\n",
       "       [0.97],\n",
       "       [0.25],\n",
       "       [0.58],\n",
       "       [0.42],\n",
       "       [0.24],\n",
       "       [0.62],\n",
       "       [0.15],\n",
       "       [0.95],\n",
       "       [0.64],\n",
       "       [0.64],\n",
       "       [0.4 ],\n",
       "       [0.12],\n",
       "       [0.22],\n",
       "       [0.4 ],\n",
       "       [0.87],\n",
       "       [0.99],\n",
       "       [0.26],\n",
       "       [0.12],\n",
       "       [0.28],\n",
       "       [0.48],\n",
       "       [0.56],\n",
       "       [0.03],\n",
       "       [0.34],\n",
       "       [0.99],\n",
       "       [0.66],\n",
       "       [0.65],\n",
       "       [0.94],\n",
       "       [0.96],\n",
       "       [0.42],\n",
       "       [0.62],\n",
       "       [0.57],\n",
       "       [0.61],\n",
       "       [0.  ],\n",
       "       [0.3 ],\n",
       "       [0.08],\n",
       "       [0.49],\n",
       "       [0.01],\n",
       "       [0.23],\n",
       "       [0.94],\n",
       "       [0.98],\n",
       "       [0.68],\n",
       "       [0.46],\n",
       "       [0.5 ],\n",
       "       [0.13],\n",
       "       [0.46],\n",
       "       [0.36],\n",
       "       [0.87],\n",
       "       [0.36]])"
      ]
     },
     "execution_count": 56,
     "metadata": {},
     "output_type": "execute_result"
    }
   ],
   "source": [
    "X"
   ]
  },
  {
   "cell_type": "code",
   "execution_count": 57,
   "id": "f3e7df75",
   "metadata": {},
   "outputs": [
    {
     "data": {
      "text/plain": [
       "array([ 511.14,  717.1 ,  607.91,  270.4 ,  289.88,  830.85, 1038.09,\n",
       "        455.19,  640.17,  511.06,  177.03, 1242.52,  891.37, 1339.72,\n",
       "        169.88,  276.05,  517.43,  522.25,  932.21,  851.25,  640.11,\n",
       "        308.68, 1046.05,  332.4 ,  171.85,  109.55,  361.97,  872.21,\n",
       "        303.7 ,  256.38,  341.2 , 1194.63,  408.6 ,  895.54,  518.25,\n",
       "        638.75,  301.9 ,  163.38,  240.77, 1449.05,  609.  ,  174.59,\n",
       "        593.45,  355.96,  671.46, 1193.7 ,  278.88,  411.4 ,   42.08,\n",
       "        166.19,   58.62,  642.45,  368.14,  702.78,  615.74,  143.79,\n",
       "        109.  ,  328.28,  205.16, 1360.49,  905.83,  487.33,  202.76,\n",
       "        202.01,  148.87,  745.3 ,  503.04, 1563.82,  165.21,  438.4 ,\n",
       "         98.47,  819.63,  174.44,  483.13,  534.24,  572.31,  957.61,\n",
       "        518.29, 1143.49, 1211.31,  784.74,  283.7 ,  684.38,  719.46,\n",
       "        292.23,  775.68,  130.77,  801.6 ,  323.55,  726.9 ,  661.12,\n",
       "        771.11, 1016.14,  237.69,  325.89,  636.22,  272.12,  696.65,\n",
       "        434.53,  593.86])"
      ]
     },
     "execution_count": 57,
     "metadata": {},
     "output_type": "execute_result"
    }
   ],
   "source": [
    "y"
   ]
  },
  {
   "cell_type": "code",
   "execution_count": 58,
   "id": "3ba8b554",
   "metadata": {},
   "outputs": [],
   "source": [
    "#splitting our data into train and test\n",
    "from sklearn.model_selection import train_test_split\n",
    "X_train,X_test,y_train,y_test=train_test_split(X,y,test_size=0.25,random_state=0)"
   ]
  },
  {
   "cell_type": "code",
   "execution_count": 48,
   "id": "4beb988c",
   "metadata": {},
   "outputs": [
    {
     "data": {
      "text/plain": [
       "LinearRegression()"
      ]
     },
     "execution_count": 48,
     "metadata": {},
     "output_type": "execute_result"
    }
   ],
   "source": [
    "from sklearn.linear_model import LinearRegression\n",
    "lr=LinearRegression()\n",
    "lr.fit(X,y)"
   ]
  },
  {
   "cell_type": "code",
   "execution_count": 49,
   "id": "37f7ab38",
   "metadata": {},
   "outputs": [
    {
     "data": {
      "text/plain": [
       "LinearRegression()"
      ]
     },
     "execution_count": 49,
     "metadata": {},
     "output_type": "execute_result"
    }
   ],
   "source": [
    "#applyting polynomial\n",
    "from sklearn.preprocessing import PolynomialFeatures\n",
    "pr=PolynomialFeatures(degree=3)\n",
    "X_poly=pr.fit_transform(X)\n",
    "lr_2=LinearRegression()\n",
    "lr_2.fit(X_poly,y)"
   ]
  },
  {
   "cell_type": "code",
   "execution_count": 50,
   "id": "65160bd9",
   "metadata": {
    "scrolled": true
   },
   "outputs": [
    {
     "data": {
      "text/plain": [
       "array([[1.00000e+00, 6.80000e-01, 4.62400e-01, 3.14432e-01],\n",
       "       [1.00000e+00, 2.30000e-01, 5.29000e-02, 1.21670e-02],\n",
       "       [1.00000e+00, 2.90000e-01, 8.41000e-02, 2.43890e-02],\n",
       "       [1.00000e+00, 4.50000e-01, 2.02500e-01, 9.11250e-02],\n",
       "       [1.00000e+00, 8.30000e-01, 6.88900e-01, 5.71787e-01],\n",
       "       [1.00000e+00, 8.00000e-01, 6.40000e-01, 5.12000e-01],\n",
       "       [1.00000e+00, 9.20000e-01, 8.46400e-01, 7.78688e-01],\n",
       "       [1.00000e+00, 4.30000e-01, 1.84900e-01, 7.95070e-02],\n",
       "       [1.00000e+00, 8.90000e-01, 7.92100e-01, 7.04969e-01],\n",
       "       [1.00000e+00, 9.50000e-01, 9.02500e-01, 8.57375e-01],\n",
       "       [1.00000e+00, 6.00000e-02, 3.60000e-03, 2.16000e-04],\n",
       "       [1.00000e+00, 9.10000e-01, 8.28100e-01, 7.53571e-01],\n",
       "       [1.00000e+00, 6.90000e-01, 4.76100e-01, 3.28509e-01],\n",
       "       [1.00000e+00, 9.40000e-01, 8.83600e-01, 8.30584e-01],\n",
       "       [1.00000e+00, 6.00000e-02, 3.60000e-03, 2.16000e-04],\n",
       "       [1.00000e+00, 1.70000e-01, 2.89000e-02, 4.91300e-03],\n",
       "       [1.00000e+00, 6.60000e-01, 4.35600e-01, 2.87496e-01],\n",
       "       [1.00000e+00, 4.30000e-01, 1.84900e-01, 7.95070e-02],\n",
       "       [1.00000e+00, 6.40000e-01, 4.09600e-01, 2.62144e-01],\n",
       "       [1.00000e+00, 4.40000e-01, 1.93600e-01, 8.51840e-02],\n",
       "       [1.00000e+00, 9.30000e-01, 8.64900e-01, 8.04357e-01],\n",
       "       [1.00000e+00, 4.30000e-01, 1.84900e-01, 7.95070e-02],\n",
       "       [1.00000e+00, 8.50000e-01, 7.22500e-01, 6.14125e-01],\n",
       "       [1.00000e+00, 7.00000e-02, 4.90000e-03, 3.43000e-04],\n",
       "       [1.00000e+00, 5.20000e-01, 2.70400e-01, 1.40608e-01],\n",
       "       [1.00000e+00, 1.50000e-01, 2.25000e-02, 3.37500e-03],\n",
       "       [1.00000e+00, 1.30000e-01, 1.69000e-02, 2.19700e-03],\n",
       "       [1.00000e+00, 6.00000e-01, 3.60000e-01, 2.16000e-01],\n",
       "       [1.00000e+00, 4.00000e-01, 1.60000e-01, 6.40000e-02],\n",
       "       [1.00000e+00, 6.50000e-01, 4.22500e-01, 2.74625e-01],\n",
       "       [1.00000e+00, 1.70000e-01, 2.89000e-02, 4.91300e-03],\n",
       "       [1.00000e+00, 9.70000e-01, 9.40900e-01, 9.12673e-01],\n",
       "       [1.00000e+00, 4.00000e-02, 1.60000e-03, 6.40000e-05],\n",
       "       [1.00000e+00, 5.30000e-01, 2.80900e-01, 1.48877e-01],\n",
       "       [1.00000e+00, 8.50000e-01, 7.22500e-01, 6.14125e-01],\n",
       "       [1.00000e+00, 6.90000e-01, 4.76100e-01, 3.28509e-01],\n",
       "       [1.00000e+00, 2.20000e-01, 4.84000e-02, 1.06480e-02],\n",
       "       [1.00000e+00, 1.50000e-01, 2.25000e-02, 3.37500e-03],\n",
       "       [1.00000e+00, 2.00000e-02, 4.00000e-04, 8.00000e-06],\n",
       "       [1.00000e+00, 9.10000e-01, 8.28100e-01, 7.53571e-01],\n",
       "       [1.00000e+00, 7.60000e-01, 5.77600e-01, 4.38976e-01],\n",
       "       [1.00000e+00, 1.90000e-01, 3.61000e-02, 6.85900e-03],\n",
       "       [1.00000e+00, 6.20000e-01, 3.84400e-01, 2.38328e-01],\n",
       "       [1.00000e+00, 1.70000e-01, 2.89000e-02, 4.91300e-03],\n",
       "       [1.00000e+00, 6.90000e-01, 4.76100e-01, 3.28509e-01],\n",
       "       [1.00000e+00, 7.60000e-01, 5.77600e-01, 4.38976e-01],\n",
       "       [1.00000e+00, 2.30000e-01, 5.29000e-02, 1.21670e-02],\n",
       "       [1.00000e+00, 9.60000e-01, 9.21600e-01, 8.84736e-01],\n",
       "       [1.00000e+00, 3.00000e-02, 9.00000e-04, 2.70000e-05],\n",
       "       [1.00000e+00, 2.30000e-01, 5.29000e-02, 1.21670e-02],\n",
       "       [1.00000e+00, 1.10000e-01, 1.21000e-02, 1.33100e-03],\n",
       "       [1.00000e+00, 8.70000e-01, 7.56900e-01, 6.58503e-01],\n",
       "       [1.00000e+00, 9.70000e-01, 9.40900e-01, 9.12673e-01],\n",
       "       [1.00000e+00, 2.50000e-01, 6.25000e-02, 1.56250e-02],\n",
       "       [1.00000e+00, 5.80000e-01, 3.36400e-01, 1.95112e-01],\n",
       "       [1.00000e+00, 4.20000e-01, 1.76400e-01, 7.40880e-02],\n",
       "       [1.00000e+00, 2.40000e-01, 5.76000e-02, 1.38240e-02],\n",
       "       [1.00000e+00, 6.20000e-01, 3.84400e-01, 2.38328e-01],\n",
       "       [1.00000e+00, 1.50000e-01, 2.25000e-02, 3.37500e-03],\n",
       "       [1.00000e+00, 9.50000e-01, 9.02500e-01, 8.57375e-01],\n",
       "       [1.00000e+00, 6.40000e-01, 4.09600e-01, 2.62144e-01],\n",
       "       [1.00000e+00, 6.40000e-01, 4.09600e-01, 2.62144e-01],\n",
       "       [1.00000e+00, 4.00000e-01, 1.60000e-01, 6.40000e-02],\n",
       "       [1.00000e+00, 1.20000e-01, 1.44000e-02, 1.72800e-03],\n",
       "       [1.00000e+00, 2.20000e-01, 4.84000e-02, 1.06480e-02],\n",
       "       [1.00000e+00, 4.00000e-01, 1.60000e-01, 6.40000e-02],\n",
       "       [1.00000e+00, 8.70000e-01, 7.56900e-01, 6.58503e-01],\n",
       "       [1.00000e+00, 9.90000e-01, 9.80100e-01, 9.70299e-01],\n",
       "       [1.00000e+00, 2.60000e-01, 6.76000e-02, 1.75760e-02],\n",
       "       [1.00000e+00, 1.20000e-01, 1.44000e-02, 1.72800e-03],\n",
       "       [1.00000e+00, 2.80000e-01, 7.84000e-02, 2.19520e-02],\n",
       "       [1.00000e+00, 4.80000e-01, 2.30400e-01, 1.10592e-01],\n",
       "       [1.00000e+00, 5.60000e-01, 3.13600e-01, 1.75616e-01],\n",
       "       [1.00000e+00, 3.00000e-02, 9.00000e-04, 2.70000e-05],\n",
       "       [1.00000e+00, 3.40000e-01, 1.15600e-01, 3.93040e-02],\n",
       "       [1.00000e+00, 9.90000e-01, 9.80100e-01, 9.70299e-01],\n",
       "       [1.00000e+00, 6.60000e-01, 4.35600e-01, 2.87496e-01],\n",
       "       [1.00000e+00, 6.50000e-01, 4.22500e-01, 2.74625e-01],\n",
       "       [1.00000e+00, 9.40000e-01, 8.83600e-01, 8.30584e-01],\n",
       "       [1.00000e+00, 9.60000e-01, 9.21600e-01, 8.84736e-01],\n",
       "       [1.00000e+00, 4.20000e-01, 1.76400e-01, 7.40880e-02],\n",
       "       [1.00000e+00, 6.20000e-01, 3.84400e-01, 2.38328e-01],\n",
       "       [1.00000e+00, 5.70000e-01, 3.24900e-01, 1.85193e-01],\n",
       "       [1.00000e+00, 6.10000e-01, 3.72100e-01, 2.26981e-01],\n",
       "       [1.00000e+00, 0.00000e+00, 0.00000e+00, 0.00000e+00],\n",
       "       [1.00000e+00, 3.00000e-01, 9.00000e-02, 2.70000e-02],\n",
       "       [1.00000e+00, 8.00000e-02, 6.40000e-03, 5.12000e-04],\n",
       "       [1.00000e+00, 4.90000e-01, 2.40100e-01, 1.17649e-01],\n",
       "       [1.00000e+00, 1.00000e-02, 1.00000e-04, 1.00000e-06],\n",
       "       [1.00000e+00, 2.30000e-01, 5.29000e-02, 1.21670e-02],\n",
       "       [1.00000e+00, 9.40000e-01, 8.83600e-01, 8.30584e-01],\n",
       "       [1.00000e+00, 9.80000e-01, 9.60400e-01, 9.41192e-01],\n",
       "       [1.00000e+00, 6.80000e-01, 4.62400e-01, 3.14432e-01],\n",
       "       [1.00000e+00, 4.60000e-01, 2.11600e-01, 9.73360e-02],\n",
       "       [1.00000e+00, 5.00000e-01, 2.50000e-01, 1.25000e-01],\n",
       "       [1.00000e+00, 1.30000e-01, 1.69000e-02, 2.19700e-03],\n",
       "       [1.00000e+00, 4.60000e-01, 2.11600e-01, 9.73360e-02],\n",
       "       [1.00000e+00, 3.60000e-01, 1.29600e-01, 4.66560e-02],\n",
       "       [1.00000e+00, 8.70000e-01, 7.56900e-01, 6.58503e-01],\n",
       "       [1.00000e+00, 3.60000e-01, 1.29600e-01, 4.66560e-02]])"
      ]
     },
     "execution_count": 50,
     "metadata": {},
     "output_type": "execute_result"
    }
   ],
   "source": [
    "X_poly"
   ]
  },
  {
   "cell_type": "code",
   "execution_count": 68,
   "id": "3e48fe97",
   "metadata": {},
   "outputs": [
    {
     "name": "stdout",
     "output_type": "stream",
     "text": [
      "[305.35920334 275.33372547 399.77362885 478.4075418  945.06243923\n",
      " 503.61327824 642.03122896 244.67550927 583.73170742 305.35920334\n",
      " 376.16673364 657.34720551 891.18549502 891.18549502 484.65195941\n",
      " 329.07314276 802.08216891 542.72199359 549.41457595 840.49279771\n",
      " 329.07314276 466.02208751 497.25305229 516.46196586 722.00157847]\n",
      "testing values\n",
      " [ 361.97  130.77  607.91  143.79  572.31  237.69  517.43  483.13  615.74\n",
      "  636.22  702.78 1016.14 1143.49 1339.72  455.19  341.2  1046.05  171.85\n",
      "  895.54  640.17  355.96  202.76  270.4   819.63 1193.7 ]\n"
     ]
    }
   ],
   "source": [
    "y_pred=lr_2.predict(pr.fit_transform(X_test))\n",
    "print(y_pred)\n",
    "print(\"testing values\\n\",y_test)"
   ]
  },
  {
   "cell_type": "code",
   "execution_count": 72,
   "id": "aad5c4fb",
   "metadata": {
    "scrolled": true
   },
   "outputs": [
    {
     "data": {
      "text/plain": [
       "[<matplotlib.lines.Line2D at 0x163c0eda4f0>]"
      ]
     },
     "execution_count": 72,
     "metadata": {},
     "output_type": "execute_result"
    },
    {
     "data": {
      "image/png": "[encoded data removed]",
      "text/plain": [
       "<Figure size 432x288 with 1 Axes>"
      ]
     },
     "metadata": {
      "needs_background": "light"
     },
     "output_type": "display_data"
    }
   ],
   "source": [
    "#plotting graph between X and its predicted values\n",
    "plt.scatter(X,y,color='r')\n",
    "plt.plot(X,lr_2.predict(pr.fit_transform(X)),color='g')"
   ]
  },
  {
   "cell_type": "code",
   "execution_count": 30,
   "id": "dc091a85",
   "metadata": {},
   "outputs": [],
   "source": [
    "#predicting values for the input values\n",
    "o1=lr_2.predict(pr.fit_transform([[0.05,0.54]]))\n",
    "o2=lr_2.predict(pr.fit_transform([[0.91,0.91]]))\n",
    "o3=lr_2.predict(pr.fit_transform([[0.31,0.76]]))\n",
    "o4=lr_2.predict(pr.fit_transform([[0.51,0.31]]))"
   ]
  },
  {
   "cell_type": "code",
   "execution_count": 60,
   "id": "742ef79a",
   "metadata": {},
   "outputs": [
    {
     "name": "stdout",
     "output_type": "stream",
     "text": [
      "these are the output values to be expected\n",
      " [180.37682443] [1312.06505966] [440.1292533] [343.71538008]\n"
     ]
    }
   ],
   "source": [
    "print(\"these are the output values to be expected\\n\",o1,o2,o3,o4)"
   ]
  },
  {
   "cell_type": "code",
   "execution_count": 74,
   "id": "bc304b30",
   "metadata": {},
   "outputs": [
    {
     "data": {
      "text/plain": [
       "0.36761724739769674"
      ]
     },
     "execution_count": 74,
     "metadata": {},
     "output_type": "execute_result"
    }
   ],
   "source": [
    "#R2:Coeficient of determination\n",
    "metrics.r2_score(y_test,y_pred)"
   ]
  },
  {
   "cell_type": "markdown",
   "id": "d2ecdb34",
   "metadata": {},
   "source": [
    "### conclusion"
   ]
  },
  {
   "cell_type": "markdown",
   "id": "093c1fdd",
   "metadata": {},
   "source": [
    "our model has very less acuuracy so we should not use it further for prediction "
   ]
  }
 ],
 "metadata": {
  "kernelspec": {
   "display_name": "Python 3 (ipykernel)",
   "language": "python",
   "name": "python3"
  },
  "language_info": {
   "codemirror_mode": {
    "name": "ipython",
    "version": 3
   },
   "file_extension": ".py",
   "mimetype": "text/x-python",
   "name": "python",
   "nbconvert_exporter": "python",
   "pygments_lexer": "ipython3",
   "version": "3.9.7"
  }
 },
 "nbformat": 4,
 "nbformat_minor": 5
}
